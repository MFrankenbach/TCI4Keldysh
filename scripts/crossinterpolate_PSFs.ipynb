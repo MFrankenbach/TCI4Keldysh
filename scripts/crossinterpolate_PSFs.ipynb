{
 "cells": [
  {
   "cell_type": "code",
   "execution_count": 1,
   "id": "2e30368c",
   "metadata": {},
   "outputs": [
    {
     "data": {
      "text/plain": [
       "load_Acont (generic function with 1 method)"
      ]
     },
     "metadata": {},
     "output_type": "display_data"
    }
   ],
   "source": [
    "using NPZ\n",
    "using PyPlot\n",
    "using HDF5\n",
    "using JLD\n",
    "using LaTeXStrings\n",
    "using QuanticsTCI\n",
    "import TensorCrossInterpolation as TCI\n",
    "\n",
    "rcParams = PyPlot.PyDict(PyPlot.matplotlib.\"rcParams\")\n",
    "#rcParams[\"backend\"] = :tk\n",
    "rcParams[\"font.size\"] = 9\n",
    "rcParams[\"text.usetex\"] = true\n",
    "rcParams[\"font.family\"] = \"serif\"\n",
    "#rcParams[\"text.latex.preamble\"] = [raw\"\\usepackage{amsmath}\", raw\"\\usepackage{amssymb}\"]\n",
    "rcParams[\"font.serif\"] = [\"Computer Modern Roman\"]\n",
    "rcParams[\"lines.linewidth\"] = 1.0\n",
    "rcParams[\"lines.markersize\"] = 2\n",
    "rcParams[\"image.cmap\"] = \"coolwarm\"\n",
    "\n",
    "function maxabs(data)\n",
    "    return maximum(abs.(data))\n",
    "end\n",
    "\n",
    "function load_Acont(filename)\n",
    "    f = h5open(filename, \"r\")\n",
    "    return read(f, \"ωcont\"), read(f, \"Acont\")\n",
    "end"
   ]
  },
  {
   "cell_type": "code",
   "execution_count": 2,
   "id": "08b107a0",
   "metadata": {
    "scrolled": false
   },
   "outputs": [],
   "source": [
    "filename_3p = \"/home/Anxiang.Ge/Desktop/PhD/code/MuNRG/MyMuNRG/data/plotdata_PSF_((F1,F1dag,Q34)).h5\"\n",
    "filename_4p = \"/home/Anxiang.Ge/Desktop/PhD/code/MuNRG/MyMuNRG/data/plotdata_PSF_((F1,F1dag,F3,F3dag)).h5\"\n",
    "\n",
    "ωcont, PSF_3p = load_Acont(filename_3p);\n",
    "ωcont, PSF_4p = load_Acont(filename_4p);\n"
   ]
  },
  {
   "cell_type": "code",
   "execution_count": 14,
   "id": "d9b57583",
   "metadata": {},
   "outputs": [
    {
     "data": {
      "text/plain": [
       "Dict{Symbol, Float64} with 2 entries:\n",
       "  :vmax => 1.01251\n",
       "  :vmin => -1.01251"
      ]
     },
     "metadata": {},
     "output_type": "display_data"
    }
   ],
   "source": [
    "vmax = maximum(abs.(PSF_3p))\n",
    "kwargs = Dict(:vmax=>vmax, :vmin=>-vmax)"
   ]
  },
  {
   "cell_type": "code",
   "execution_count": 10,
   "id": "f82f65bc",
   "metadata": {},
   "outputs": [],
   "source": [
    "vmax = maximum(abs.(PSF_3p))\n",
    "kwargs_3p = Dict(:vmax=>vmax, :vmin=>-vmax, :extent=>(250, 750, 250, 750))\n",
    "vmax = maximum(abs.(PSF_4p))\n",
    "kwargs_4p = Dict(:vmax=>vmax, :vmin=>-vmax, :extent=>(250, 750, 250, 750))\n",
    "\n",
    "fig, axs = subplots(ncols=2, nrows=1)\n",
    "axs[1].imshow(PSF_3p; kwargs_3p...) |> colorbar\n",
    "axs[2].imshow(PSF_4p[:,:,512]; kwargs_4p...) |> colorbar\n",
    "#axs[2, 1].imshow(real(interpdata_K3); kwargs...) |> colorbar\n",
    "#axs[2, 2].imshow(imag(interpdata_K3); kwargs...) |> colorbar\n",
    "\n",
    "plt.savefig(\"interpdata_PSFs_3p4p.png\")"
   ]
  },
  {
   "cell_type": "code",
   "execution_count": 3,
   "id": "7cbdfd54",
   "metadata": {},
   "outputs": [
    {
     "ename": "UndefVarError",
     "evalue": "UndefVarError: `qR_K2` not defined",
     "output_type": "error",
     "traceback": [
      "UndefVarError: `qR_K2` not defined\n"
     ]
    }
   ],
   "source": [
    "qR_K2"
   ]
  },
  {
   "cell_type": "code",
   "execution_count": 3,
   "id": "23e823c5",
   "metadata": {},
   "outputs": [
    {
     "name": "stdout",
     "output_type": "stream",
     "text": [
      "extent of qmesh: \t [1, 1024]\n"
     ]
    },
    {
     "data": {
      "text/plain": [
       "(QuanticsTCI.QuanticsTensorCI2{Float64}(TensorCrossInterpolation.TensorCI2{Float64} with rank 42, QuanticsTCI.UnfoldingSchemes.interleaved), [2, 4, 8, 16, 20, 30, 32, 38, 41, 42, 43, 44, 47, 47, 42], [0.0, 0.0, 0.0, 4.9894903552796595e-5, 5.079266767209787e-5, 5.555997705579742e-5, 5.555997705579742e-5, 5.633977510976751e-5, 5.633977510976751e-5, 4.552396128546828e-5, 4.1186705961332024e-5, 5.2244334653028606e-5, 5.2244334653028606e-5, 5.224433465302105e-5, 4.1186705961332024e-5])"
      ]
     },
     "metadata": {},
     "output_type": "display_data"
    }
   ],
   "source": [
    "### QTCI K2a: ###\n",
    "\n",
    "\n",
    "R_K2 = 10\n",
    "qR_K2 = 2^R_K2\n",
    "qmesh = collect(Int, range(1, qR_K2, length=qR_K2))\n",
    "println(\"extent of qmesh: \\t [1, \", qR_K2, \"]\")\n",
    "\n",
    "tol_high = 1e-3\n",
    "tol_low  = 1e-4\n",
    "\n",
    "\n",
    "qttK2a, _, _ = quanticscrossinterpolate(\n",
    "    Float64,\n",
    "    (x, y) -> PSF_3p[x, y],\n",
    "    [qmesh, qmesh],\n",
    "    tolerance=tol_high\n",
    ")\n",
    "\n",
    "qttK2a2, _, _ = quanticscrossinterpolate(\n",
    "    Float64,\n",
    "    (x, y) -> PSF_3p[x, y],\n",
    "    [qmesh, qmesh],\n",
    "    tolerance=tol_low\n",
    ")\n"
   ]
  },
  {
   "cell_type": "code",
   "execution_count": 3,
   "id": "4ae3788a",
   "metadata": {},
   "outputs": [],
   "source": [
    "### QTCI K3a: ###\n",
    "\n",
    "dict_K3 = Dict(\"R\"=>10, \"PSFdata\"=>filename_4p)\n",
    "\n",
    "R_K3 = 10#dict_K3[\"R\"]\n",
    "qR_K3 = 2^R_K3\n",
    "qmesh = collect(Int, range(1, qR_K3, length=qR_K3));\n",
    "\n",
    "\n"
   ]
  },
  {
   "cell_type": "code",
   "execution_count": 4,
   "id": "9f43720f",
   "metadata": {},
   "outputs": [
    {
     "data": {
      "text/plain": [
       "(QuanticsTCI.QuanticsTensorCI2{ComplexF64}(TensorCrossInterpolation.TensorCI2{ComplexF64} with rank 181, QuanticsTCI.UnfoldingSchemes.interleaved), [2, 4, 8, 16, 32, 64, 93, 145, 159, 183, 185, 184, 181], [0.0, 1.9067948190860327e-5, 1.9067948190860327e-5, 2.035984802441095e-5, 5.2163460376526284e-5, 8.307058048350815e-5, 8.307058048350815e-5, 7.641749844241002e-5, 7.641749844241002e-5, 5.776580959408332e-5, 5.776580959408332e-5, 2.1722066745801726e-5, 3.616874064257676e-5])"
      ]
     },
     "metadata": {},
     "output_type": "display_data"
    }
   ],
   "source": [
    "\n",
    "\n",
    "tol_high = 1e-3\n",
    "tol_low  = 1e-4\n",
    "\n",
    "qttK3a, _, _ = quanticscrossinterpolate(\n",
    "    ComplexF64,\n",
    "    (x, y, z) -> PSF_4p[x, y, z],\n",
    "    [qmesh, qmesh, qmesh],\n",
    "    tolerance=tol_high\n",
    ")\n",
    "\n",
    "qttK3a2, _, _ = quanticscrossinterpolate(\n",
    "    ComplexF64,\n",
    "    (x, y, z) -> PSF_4p[x, y, z],\n",
    "    [qmesh, qmesh, qmesh],\n",
    "    tolerance=tol_low\n",
    ")"
   ]
  },
  {
   "cell_type": "code",
   "execution_count": 6,
   "id": "a774dd75",
   "metadata": {},
   "outputs": [],
   "source": [
    "PSF_4p = 0\n",
    "GC.gc()"
   ]
  },
  {
   "cell_type": "code",
   "execution_count": 7,
   "id": "b658ed7d",
   "metadata": {},
   "outputs": [
    {
     "data": {
      "text/plain": [
       "0"
      ]
     },
     "metadata": {},
     "output_type": "display_data"
    }
   ],
   "source": [
    "PSF_4p"
   ]
  },
  {
   "cell_type": "code",
   "execution_count": 14,
   "id": "95af312c",
   "metadata": {},
   "outputs": [
    {
     "data": {
      "text/plain": [
       "save_plotdata (generic function with 1 method)"
      ]
     },
     "metadata": {},
     "output_type": "display_data"
    }
   ],
   "source": [
    "function save_plotdata(qtt, Kclass_str, qttdata2D, dict_K)\n",
    "    file = h5open(\"plotdata_PSFs.h5\", \"cw\")\n",
    "    g_K = create_group(file, Kclass_str)\n",
    "    g_K[\"qttdata2D\"] = qttdata2D\n",
    "    g_K[\"qplotmesh\"] = qplotmesh\n",
    "    g_K[\"pivoterrors\"] = qtt.tt.pivoterrors\n",
    "    g_K[\"linkdims\"] = TCI.linkdims(qtt.tt)\n",
    "    save(\"qtt_dict_\"*Kclass_str*\".jld\", \"qtt_dict\", dict_K)\n",
    "    close(file)\n",
    "    return nothing\n",
    "end"
   ]
  },
  {
   "cell_type": "code",
   "execution_count": 88,
   "id": "5b4ff56b",
   "metadata": {},
   "outputs": [],
   "source": []
  },
  {
   "cell_type": "code",
   "execution_count": null,
   "id": "9c21d8ff",
   "metadata": {},
   "outputs": [],
   "source": [
    "zoom = 2^4\n",
    "qplotmesh = Int.(round.(range(1, qR_K2, length=300)))\n",
    "box = (-extent, extent, -extent, extent) ./ zoom\n",
    "qttK2adata = qttK2a.(qplotmesh, qplotmesh')\n",
    "\n",
    "zoom = 2^4\n",
    "Length = 128\n",
    "qplotmesh = Int.(round.(range(1, qR_K3, length=Length)))\n",
    "box = (-extent, extent, -extent, extent) #./ zoom\n",
    "qttK3adata = qttK3a.(qplotmesh, qplotmesh',2^(R_K3-1))\n",
    "\n",
    "\n",
    "\n",
    "\n",
    "qR_K3 = 2^R_K3\n",
    "qmesh = range(-extent, extent, length=qR_K3) |> collect\n",
    "    \n"
   ]
  },
  {
   "cell_type": "code",
   "execution_count": 16,
   "id": "ba1a6f00",
   "metadata": {},
   "outputs": [
    {
     "data": {
      "text/plain": [
       "0"
      ]
     },
     "metadata": {},
     "output_type": "display_data"
    }
   ],
   "source": [
    "vmax = maximum(abs.(PSF_3p))\n"
   ]
  },
  {
   "cell_type": "code",
   "execution_count": 13,
   "id": "dd4f07ad",
   "metadata": {},
   "outputs": [],
   "source": [
    "zoom = 2^4\n",
    "qplotmesh = Int.(round.(range(1, qR_K2, length=512)))\n",
    "vmax = maximum(abs.(PSF_3p))\n",
    "kwargs = Dict(:vmax=>vmax, :vmin=>-vmax)\n",
    "#box = (-ωlim, ωlim, -ωlim, ωlim)\n",
    "\n",
    "qttK2adata = qttK2a.(qplotmesh, qplotmesh')\n",
    "fig, axs = subplots(ncols=2, nrows=2, figsize=(300, 250)./72)\n",
    "\n",
    "axs[1, 1].set_title(L\"\\mathrm{Re}(K_{2a})\")\n",
    "axs[1, 1].imshow(real(qttK2adata)'; kwargs...) |> colorbar\n",
    "#axs[1, 2].set_title(L\"\\mathrm{Im}(K_{2a})\")\n",
    "#axs[1, 2].imshow(imag(qttK2adata)'; kwargs...) |> colorbar\n",
    "\n",
    "axs[1, 1].set_ylabel(L\"\\nu\")\n",
    "for ax in axs[1, :]\n",
    "    ax.set_xlabel(L\"\\omega\")\n",
    "end\n",
    "\n",
    "axs[2, 1].semilogy(1:TCI.rank(qttK2a.tt), qttK2a.tt.pivoterrors, label=L\"\\epsilon=10^{-3}\")\n",
    "axs[2, 1].semilogy(1:TCI.rank(qttK2a2.tt), qttK2a2.tt.pivoterrors, label=L\"\\epsilon=10^{-4}\")\n",
    "axs[2, 1].set_xlabel(L\"D_{\\max}\")\n",
    "axs[2, 1].set_ylabel(\"abs. error\")\n",
    "\n",
    "axs[2, 2].semilogy(1:2R_K2-1, 2 .^ min.(1:2R_K2-1, 2R_K2-1:-1:1), color=\"gray\", linewidth=0.5)\n",
    "axs[2, 2].semilogy(1:2R_K2-1, TCI.linkdims(qttK2a.tt))\n",
    "axs[2, 2].semilogy(1:2R_K2-1, TCI.linkdims(qttK2a2.tt))\n",
    "axs[2, 2].set_xlabel(L\"\\ell\")\n",
    "axs[2, 2].set_ylabel(L\"D_\\ell\")\n",
    "axs[2, 2].set_ylim(1.5, 300)\n",
    "axs[2, 2].set_xticks([1, 10, 19])\n",
    "\n",
    "axs[2, 1].legend()\n",
    "fig.suptitle(\"QTCI of 3p PSF\")\n",
    "tight_layout()\n",
    "\n",
    "\n",
    "fig.savefig(\"PSF_3p.pdf\")\n"
   ]
  },
  {
   "cell_type": "code",
   "execution_count": 20,
   "id": "14f7d9b9",
   "metadata": {},
   "outputs": [],
   "source": [
    "maximum(abs.(PSF_4p))"
   ]
  },
  {
   "cell_type": "code",
   "execution_count": 19,
   "id": "493b363b",
   "metadata": {},
   "outputs": [],
   "source": [
    "Length = 128#256\n",
    "qplotmesh = Int.(round.(range(250, 750, length=Length)))\n",
    "#box = (-extent, extent, -extent, extent) #./ zoom\n",
    "\n",
    "fig, axs = subplots(ncols=2, nrows=2, figsize=(300, 250)./72)\n",
    "qttK3adata = qttK3a.(qplotmesh, qplotmesh',2^(R_K3-1))\n",
    "vmax = maximum(abs.(qttK3adata))\n",
    "kwargs = Dict(:vmax=>vmax, :vmin=>-vmax)\n",
    "\n",
    "axs[1, 1].set_title(L\"\\mathrm{Re}(K_{3a;\\, \\omega,\\nu,\\nu'})\")\n",
    "axs[1, 1].imshow(real(qttK3adata)'; kwargs...) |> colorbar\n",
    "#axs[1, 2].set_title(L\"\\mathrm{Im}(K_{3a})\")\n",
    "#axs[1, 2].imshow(imag(qttK3adata)'; extent=box, kwargs...) |> colorbar\n",
    "\n",
    "axs[1, 1].set_ylabel(L\"\\nu'\")\n",
    "for ax in axs[1, :]\n",
    "    ax.set_xlabel(L\"\\nu\")\n",
    "end\n",
    "axs[2, 1].semilogy(1:TCI.rank(qttK3a.tt), qttK3a.tt.pivoterrors, label=L\"\\epsilon=10^{-3}\")\n",
    "axs[2, 1].semilogy(1:TCI.rank(qttK3a2.tt), qttK3a2.tt.pivoterrors, label=L\"\\epsilon=10^{-4}\")\n",
    "axs[2, 1].set_xlabel(L\"D_{\\max}\")\n",
    "axs[2, 1].set_ylabel(\"abs. error\")\n",
    "\n",
    "axs[2, 2].semilogy(1:3R_K3-1, 2 .^ min.(1:3R_K3-1, 3R_K3-1:-1:1), color=\"gray\", linewidth=0.5)\n",
    "axs[2, 2].semilogy(1:3R_K3-1, TCI.linkdims(qttK3a.tt))\n",
    "axs[2, 2].semilogy(1:3R_K3-1, TCI.linkdims(qttK3a2.tt))\n",
    "axs[2, 2].set_xlabel(L\"\\ell\")\n",
    "axs[2, 2].set_ylabel(L\"D_\\ell\")\n",
    "#axs[2, 2].set_ylim(1.5, 300)\n",
    "axs[2, 2].set_xticks([1, 10, 19])\n",
    "\n",
    "axs[2, 1].legend()\n",
    "fig.suptitle(\"QTCI of 4p PSF\")\n",
    "tight_layout()\n",
    "\n",
    "\n",
    "fig.savefig(\"PSF_4p.pdf\")"
   ]
  },
  {
   "cell_type": "code",
   "execution_count": 18,
   "id": "1948a457",
   "metadata": {},
   "outputs": [],
   "source": [
    "#save_plotdata(qttK2a,  \"u\"*string(u_here)*\"_K2a\" *\"_\"*keldyshComponentsK2a*\"_3\", qttK2adata, Dict(\"R\"=>R_K2, \"extent\"=>extent, \"parquetdata\"=>filename, \"tol\"=>tol_high))\n",
    "#save_plotdata(qttK2a2, \"u\"*string(u_here)*\"_K2a2\"*\"_\"*keldyshComponentsK2a*\"_3\", qttK2adata, Dict(\"R\"=>R_K2, \"extent\"=>extent, \"parquetdata\"=>filename, \"tol\"=>tol_low))\n",
    "save_plotdata(qttK3a,  \"4pPSF_1\", qttK3adata, Dict(\"R\"=>R_K3, \"parquetdata\"=>filename_4p, \"tol\"=>tol_high))\n",
    "save_plotdata(qttK3a2, \"4pPSF_2\", qttK3adata, Dict(\"R\"=>R_K3, \"parquetdata\"=>filename_4p, \"tol\"=>tol_low))"
   ]
  },
  {
   "cell_type": "code",
   "execution_count": null,
   "id": "b4f5a55f",
   "metadata": {},
   "outputs": [],
   "source": []
  }
 ],
 "metadata": {
  "kernelspec": {
   "display_name": "Julia 1.9.3",
   "language": "julia",
   "name": "julia-1.9"
  },
  "language_info": {
   "file_extension": ".jl",
   "mimetype": "application/julia",
   "name": "julia",
   "version": "1.9.3"
  }
 },
 "nbformat": 4,
 "nbformat_minor": 5
}
