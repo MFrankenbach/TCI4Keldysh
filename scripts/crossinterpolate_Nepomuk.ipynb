{
 "cells": [
  {
   "cell_type": "code",
   "execution_count": 67,
   "id": "2e30368c",
   "metadata": {},
   "outputs": [
    {
     "name": "stderr",
     "output_type": "stream",
     "text": [
      "WARNING: could not import HDF5.exists into JLD\n"
     ]
    },
    {
     "data": {
      "text/plain": [
       "maxabs (generic function with 1 method)"
      ]
     },
     "metadata": {},
     "output_type": "display_data"
    }
   ],
   "source": [
    "using NPZ\n",
    "using PyPlot\n",
    "using HDF5\n",
    "using JLD\n",
    "using LaTeXStrings\n",
    "using QuanticsTCI\n",
    "import TensorCrossInterpolation as TCI\n",
    "\n",
    "rcParams = PyPlot.PyDict(PyPlot.matplotlib.\"rcParams\")\n",
    "#rcParams[\"backend\"] = :tk\n",
    "rcParams[\"font.size\"] = 9\n",
    "rcParams[\"text.usetex\"] = true\n",
    "rcParams[\"font.family\"] = \"serif\"\n",
    "#rcParams[\"text.latex.preamble\"] = [raw\"\\usepackage{amsmath}\", raw\"\\usepackage{amssymb}\"]\n",
    "rcParams[\"font.serif\"] = [\"Computer Modern Roman\"]\n",
    "rcParams[\"lines.linewidth\"] = 1.0\n",
    "rcParams[\"lines.markersize\"] = 2\n",
    "rcParams[\"image.cmap\"] = \"coolwarm\"\n",
    "\n",
    "function maxabs(data)\n",
    "    return maximum(abs.(data))\n",
    "end\n"
   ]
  },
  {
   "cell_type": "code",
   "execution_count": 6,
   "id": "08b107a0",
   "metadata": {
    "scrolled": false
   },
   "outputs": [],
   "source": [
    "u_here = 0.5\n",
    "u_here = 1.\n",
    "keldyshComponentsK2a = \"1112\"\n",
    "keldyshComponentsK3a = \"1212\"\n",
    "idx_keldyshComponentsK2a = 2\n",
    "idx_keldyshComponentsK3a = 4\n",
    "#=\n",
    "Keldyshcomponents       in K2a:     in K3a:\n",
    "                        1111        1111\n",
    "                        1112        1112\n",
    "                        1121        1122\n",
    "                        1122        1212\n",
    "                        2122        1221\n",
    "                                    1222\n",
    "=#\n",
    "\n",
    "filename = \"/home/Anxiang.Ge/Desktop/PhD/mfrg_Data/Keldysh/1lpaper_data/parquetInit4_U_over_Delta=1.570796_T=0.010000_eVg=0.000000_n1=401_n2=201_n3=51_version1_final.h5\"\n",
    "filename = \"/home/Anxiang.Ge/Desktop/PhD/mfrg_Data/Keldysh/1lpaper_data/parquetInit4_U_over_Delta=3.141593_T=0.010000_eVg=0.000000_n1=401_n2=201_n3=101_version1_final.h5\"\n",
    "fparquet = h5open(filename);\n",
    "\n",
    "parquetK3t = map(t -> t.re + 1im * t.im, fparquet[\"K3_t\"][1, 1, :, :, :, 1, 1])\n",
    "parquetK3a = map(t -> t.re + 1im * t.im, fparquet[\"K3_a\"][1, idx_keldyshComponentsK3a, :, :, :, 1, 1])\n",
    "parquetK3p = map(t -> t.re + 1im * t.im, fparquet[\"K3_p\"][1, 1, :, :, :, 1, 1])\n",
    "\n",
    "parquetK2t = map(t -> t.re + 1im * t.im, fparquet[\"K2_t\"][1, 1, :, :, 1, 1])\n",
    "parquetK2a = map(t -> t.re + 1im * t.im, fparquet[\"K2_a\"][1, idx_keldyshComponentsK2a, :, :, 1, 1])\n",
    "parquetK2p = map(t -> t.re + 1im * t.im, fparquet[\"K2_p\"][1, 1, :, :, 1, 1])\n",
    "\n",
    "parquetK1t = map(t -> t.re + 1im * t.im, fparquet[\"K1_t\"][1, 1, :, 1, 1])\n",
    "parquetK1a = map(t -> t.re + 1im * t.im, fparquet[\"K1_a\"][1, 1, :, 1, 1])\n",
    "parquetK1p = map(t -> t.re + 1im * t.im, fparquet[\"K1_p\"][1, 1, :, 1, 1]);"
   ]
  },
  {
   "cell_type": "code",
   "execution_count": 7,
   "id": "2b1e8495",
   "metadata": {},
   "outputs": [],
   "source": [
    "using Interpolations\n",
    "\n",
    "omegas_K2 = fparquet[\"bfreqs2_a\"][:,1]\n",
    "nus_K2 = fparquet[\"ffreqs2_a\"][:,1]\n",
    "omegas_K3 = fparquet[\"bfreqs3_a\"][:,1]\n",
    "nus_K3 = fparquet[\"ffreqs3_a\"][:,1]\n",
    "\n",
    "δω_K2 = omegas_K2[div(length(omegas_K2),2)+2]\n",
    "δν_K2 = nus_K2[div(length(nus_K2),2)+2]\n",
    "δω_K3 = omegas_K3[div(length(omegas_K3),2)+2]\n",
    "δν_K3 = nus_K3[div(length(nus_K3),2)+2]\n",
    "\n",
    "K2ainterp = interpolate((nus_K2, omegas_K2), parquetK2a, Gridded(Linear()))\n",
    "K3ainterp = interpolate((nus_K3, nus_K3, omegas_K3), parquetK3a, Gridded(Linear()));"
   ]
  },
  {
   "cell_type": "code",
   "execution_count": 8,
   "id": "f82f65bc",
   "metadata": {},
   "outputs": [],
   "source": [
    "extent = 10\n",
    "plotomegas = range(-extent, extent, length=1000)\n",
    "plotnus = range(-extent, extent, length=1000)\n",
    "interpdata_K2 = K2ainterp.(plotomegas, plotnus')\n",
    "interpdata_K3 = K3ainterp.(plotnus, plotnus', 0.)\n",
    "\n",
    "vmax = maximum(abs.(parquetK2a))\n",
    "kwargs = Dict(:vmax=>vmax, :vmin=>-vmax)\n",
    "\n",
    "fig, axs = subplots(ncols=2, nrows=2)\n",
    "axs[1, 1].imshow(real(interpdata_K2); kwargs...) |> colorbar\n",
    "axs[1, 2].imshow(imag(interpdata_K2); kwargs...) |> colorbar\n",
    "axs[2, 1].imshow(real(interpdata_K3); kwargs...) |> colorbar\n",
    "axs[2, 2].imshow(imag(interpdata_K3); kwargs...) |> colorbar\n",
    "\n",
    "plt.savefig(\"interpdata_K2aK3a.png\")"
   ]
  },
  {
   "cell_type": "code",
   "execution_count": 63,
   "id": "058a069f",
   "metadata": {},
   "outputs": [
    {
     "data": {
      "text/plain": [
       "Dict{String, Int64} with 2 entries:\n",
       "  \"R\"      => 14\n",
       "  \"extent\" => 10"
      ]
     },
     "metadata": {},
     "output_type": "display_data"
    }
   ],
   "source": []
  },
  {
   "cell_type": "code",
   "execution_count": 85,
   "id": "23e823c5",
   "metadata": {},
   "outputs": [
    {
     "name": "stdout",
     "output_type": "stream",
     "text": [
      "extent of qmesh: \t ±10\n",
      "resol of qmesh: \t0.001220703125\n",
      "\n",
      "resol of ω/ν: \t0.00047744096259767907\n"
     ]
    },
    {
     "data": {
      "text/plain": [
       "(QuanticsTCI.QuanticsTensorCI2{ComplexF64}(TensorCrossInterpolation.TensorCI2{ComplexF64} with rank 102, QuanticsTCI.UnfoldingSchemes.interleaved), [2, 4, 8, 16, 32, 60, 91, 110, 105, 102], [0.0, 0.0, 0.0009255302192081467, 0.0009255302192081467, 0.000833143326004818, 0.0009170677861057888, 0.0009170677861057888, 0.000803895873637383, 0.0008038958736374154, 0.0008684484505757075])"
      ]
     },
     "metadata": {},
     "output_type": "display_data"
    }
   ],
   "source": [
    "### QTCI K2a: ###\n",
    "\n",
    "\n",
    "R_K2 = 14\n",
    "qR_K2 = 2^R_K2\n",
    "qmesh = range(-extent, extent, length=qR_K2) |> collect\n",
    "println(\"extent of qmesh: \\t ±\", extent)\n",
    "println(\"resol of qmesh: \\t\", (2. *extent) / qR_K2)\n",
    "println()\n",
    "println(\"resol of ω/ν: \\t\", minimum([δω_K2, δν_K2]))\n",
    "\n",
    "tol_high = 1e-2\n",
    "tol_low  = 1e-3\n",
    "\n",
    "\n",
    "qttK2a, _, _ = quanticscrossinterpolate(\n",
    "    ComplexF64,\n",
    "    (x, y) -> K2ainterp(x, y),\n",
    "    [qmesh, qmesh],\n",
    "    tolerance=tol_high\n",
    ")\n",
    "\n",
    "qttK2a2, _, _ = quanticscrossinterpolate(\n",
    "    ComplexF64,\n",
    "    (x, y) -> K2ainterp(x, y),\n",
    "    [qmesh, qmesh],\n",
    "    tolerance=tol_low\n",
    ")\n"
   ]
  },
  {
   "cell_type": "code",
   "execution_count": 84,
   "id": "4ae3788a",
   "metadata": {},
   "outputs": [
    {
     "name": "stdout",
     "output_type": "stream",
     "text": [
      "extent of qmesh: \t ±10\n",
      "resol of qmesh: \t0.01953125\n",
      "\n",
      "resol of ω/ν: \t0.0012733669196278727\n"
     ]
    }
   ],
   "source": [
    "### QTCI K3a: ###\n",
    "\n",
    "dict_K3 = Dict(\"R\"=>10, \"extent\"=>extent, \"parquetdata\"=>filename)\n",
    "\n",
    "R_K3 = dict_K3[\"R\"]\n",
    "qR_K3 = 2^R_K3\n",
    "qmesh = range(-extent, extent, length=qR_K3) |> collect\n",
    "println(\"extent of qmesh: \\t ±\", extent)\n",
    "println(\"resol of qmesh: \\t\", (2. *extent) / qR_K3)\n",
    "println()\n",
    "println(\"resol of ω/ν: \\t\", minimum([δω_K3, δν_K3]))\n",
    "\n",
    "\n"
   ]
  },
  {
   "cell_type": "code",
   "execution_count": 20,
   "id": "9f43720f",
   "metadata": {},
   "outputs": [
    {
     "data": {
      "text/plain": [
       "(QuanticsTCI.QuanticsTensorCI2{ComplexF64}(TensorCrossInterpolation.TensorCI2{ComplexF64} with rank 635, QuanticsTCI.UnfoldingSchemes.interleaved), [2, 4, 8, 16, 32, 64, 128, 256, 501, 627, 642, 647, 655, 648, 635], [0.0, 0.0, 0.0007015206479788752, 0.0007015206479788752, 0.00025923351996977176, 0.0004252733971183641, 0.0005117753818683334, 0.0005636336169576582, 0.0005636336169576582, 0.000506488346079366, 0.0005023329092798772, 0.0005023329092798772, 0.00048136715046555176, 0.00042234278542912335, 0.0006397813340586065])"
      ]
     },
     "metadata": {},
     "output_type": "display_data"
    }
   ],
   "source": [
    "\n",
    "\n",
    "qttK3a, _, _ = quanticscrossinterpolate(\n",
    "    ComplexF64,\n",
    "    (x, y, z) -> K3ainterp(x, y, z),\n",
    "    [qmesh, qmesh, qmesh],\n",
    "    tolerance=tol_high\n",
    ")\n",
    "\n",
    "qttK3a2, _, _ = quanticscrossinterpolate(\n",
    "    ComplexF64,\n",
    "    (x, y, z) -> K3ainterp(x, y, z),\n",
    "    [qmesh, qmesh, qmesh],\n",
    "    tolerance=tol_low\n",
    ")"
   ]
  },
  {
   "cell_type": "code",
   "execution_count": 87,
   "id": "95af312c",
   "metadata": {},
   "outputs": [
    {
     "data": {
      "text/plain": [
       "save_plotdata (generic function with 1 method)"
      ]
     },
     "metadata": {},
     "output_type": "display_data"
    }
   ],
   "source": [
    "function save_plotdata(qtt, Kclass_str, qttdata2D, dict_K)\n",
    "    file = h5open(\"plotdata_K23a_\"*keldyshComponentsK2a*\"_u=\"*string(u_here)*\".h5\", \"cw\")\n",
    "    g_K = create_group(g, Kclass_str)\n",
    "    g_K[\"qttdata2D\"] = qttdata2D\n",
    "    g_K[\"qplotmesh\"] = qplotmesh\n",
    "    g_K[\"pivoterrors\"] = qtt.tt.pivoterrors\n",
    "    g_K[\"linkdims\"] = TCI.linkdims(qttK2a.tt)\n",
    "    g_K[\"R\"] = R_K3 = 10\n",
    "    save(\"qtt_dict_\"*Kclass_str*\".jld\", \"qtt_dict\", dict_K)\n",
    "    close(file)\n",
    "    return nothing\n",
    "end"
   ]
  },
  {
   "cell_type": "code",
   "execution_count": 88,
   "id": "5b4ff56b",
   "metadata": {},
   "outputs": [],
   "source": []
  },
  {
   "cell_type": "code",
   "execution_count": null,
   "id": "9c21d8ff",
   "metadata": {},
   "outputs": [],
   "source": [
    "zoom = 2^4\n",
    "qplotmesh = Int.(round.(range(1, qR_K2, length=300)))\n",
    "box = (-extent, extent, -extent, extent) ./ zoom\n",
    "qttK2adata = qttK2a.(qplotmesh, qplotmesh')\n",
    "\n",
    "zoom = 2^4\n",
    "Length = 128\n",
    "qplotmesh = Int.(round.(range(1, qR_K3, length=Length)))\n",
    "box = (-extent, extent, -extent, extent) #./ zoom\n",
    "qttK3adata = qttK3a.(qplotmesh, qplotmesh',2^(R_K3-1))\n",
    "\n",
    "\n",
    "\n",
    "\n",
    "qR_K3 = 2^R_K3\n",
    "qmesh = range(-extent, extent, length=qR_K3) |> collect\n",
    "    \n"
   ]
  },
  {
   "cell_type": "code",
   "execution_count": 27,
   "id": "ba1a6f00",
   "metadata": {},
   "outputs": [
    {
     "data": {
      "text/plain": [
       "🗂️ HDF5.File: (read-write) plotdata_K23a_1112_u=1.0.pdf"
      ]
     },
     "metadata": {},
     "output_type": "display_data"
    }
   ],
   "source": [
    "file = h5open(\"plotdata_K23a_\"*keldyshComponentsK2a*\"_u=\"*string(u_here)*\".pdf\", \"w\")\n"
   ]
  },
  {
   "cell_type": "code",
   "execution_count": 10,
   "id": "dd4f07ad",
   "metadata": {},
   "outputs": [],
   "source": [
    "zoom = 2^4\n",
    "qplotmesh = Int.(round.(range(1, qR_K2, length=300)))\n",
    "box = (-extent, extent, -extent, extent) ./ zoom\n",
    "\n",
    "qttK2adata = qttK2a.(qplotmesh, qplotmesh')\n",
    "fig, axs = subplots(ncols=2, nrows=2, figsize=(300, 250)./72)\n",
    "\n",
    "axs[1, 1].set_title(L\"\\mathrm{Re}(K_{2a})\")\n",
    "axs[1, 1].imshow(real(qttK2adata)'; extent=box, kwargs...) |> colorbar\n",
    "axs[1, 2].set_title(L\"\\mathrm{Im}(K_{2a})\")\n",
    "axs[1, 2].imshow(imag(qttK2adata)'; extent=box, kwargs...) |> colorbar\n",
    "\n",
    "axs[1, 1].set_ylabel(L\"\\nu\")\n",
    "for ax in axs[1, :]\n",
    "    ax.set_xlabel(L\"\\omega\")\n",
    "end\n",
    "\n",
    "axs[2, 1].semilogy(1:TCI.rank(qttK2a.tt), qttK2a.tt.pivoterrors, label=L\"\\epsilon=10^{-2}\")\n",
    "axs[2, 1].semilogy(1:TCI.rank(qttK2a2.tt), qttK2a2.tt.pivoterrors, label=L\"\\epsilon=10^{-3}\")\n",
    "axs[2, 1].set_xlabel(L\"D_{\\max}\")\n",
    "axs[2, 1].set_ylabel(\"abs. error\")\n",
    "\n",
    "axs[2, 2].semilogy(1:2R_K2-1, 2 .^ min.(1:2R_K2-1, 2R_K2-1:-1:1), color=\"gray\", linewidth=0.5)\n",
    "axs[2, 2].semilogy(1:2R_K2-1, TCI.linkdims(qttK2a.tt))\n",
    "axs[2, 2].semilogy(1:2R_K2-1, TCI.linkdims(qttK2a2.tt))\n",
    "axs[2, 2].set_xlabel(L\"\\ell\")\n",
    "axs[2, 2].set_ylabel(L\"D_\\ell\")\n",
    "axs[2, 2].set_ylim(1.5, 300)\n",
    "axs[2, 2].set_xticks([1, 10, 19])\n",
    "\n",
    "axs[2, 1].legend()\n",
    "fig.suptitle(\"QTCI of K2a \"*keldyshComponentsK2a*\" component\")\n",
    "tight_layout()\n",
    "\n",
    "\n",
    "fig.savefig(\"K2a_\"*keldyshComponentsK2a*\"_u=\"*string(u_here)*\".pdf\")\n"
   ]
  },
  {
   "cell_type": "code",
   "execution_count": 22,
   "id": "493b363b",
   "metadata": {},
   "outputs": [],
   "source": [
    "zoom = 2^4\n",
    "Length = 128\n",
    "qplotmesh = Int.(round.(range(1, qR_K3, length=Length)))\n",
    "box = (-extent, extent, -extent, extent) #./ zoom\n",
    "\n",
    "qttK3adata = qttK3a.(qplotmesh, qplotmesh',2^(R_K3-1))\n",
    "fig, axs = subplots(ncols=2, nrows=2, figsize=(300, 250)./72)\n",
    "\n",
    "axs[1, 1].set_title(L\"\\mathrm{Re}(K_{3a;\\, \\omega,\\nu,\\nu'})\")\n",
    "axs[1, 1].imshow(real(qttK3adata)'; extent=box, kwargs...) |> colorbar\n",
    "axs[1, 2].set_title(L\"\\mathrm{Im}(K_{3a})\")\n",
    "axs[1, 2].imshow(imag(qttK3adata)'; extent=box, kwargs...) |> colorbar\n",
    "\n",
    "axs[1, 1].set_ylabel(L\"\\nu'\")\n",
    "for ax in axs[1, :]\n",
    "    ax.set_xlabel(L\"\\nu\")\n",
    "end\n",
    "axs[2, 1].semilogy(1:TCI.rank(qttK3a.tt), qttK3a.tt.pivoterrors, label=L\"\\epsilon=10^{-2}\")\n",
    "axs[2, 1].semilogy(1:TCI.rank(qttK3a2.tt), qttK3a2.tt.pivoterrors, label=L\"\\epsilon=10^{-3}\")\n",
    "axs[2, 1].set_xlabel(L\"D_{\\max}\")\n",
    "axs[2, 1].set_ylabel(\"abs. error\")\n",
    "\n",
    "fig.savefig(\"K3a_\"*keldyshComponentsK3a*\"_u=\"*string(u_here)*\".png\")\n",
    "\n",
    "axs[2, 2].semilogy(1:3R_K3-1, 2 .^ min.(1:3R_K3-1, 3R_K3-1:-1:1), color=\"gray\", linewidth=0.5)\n",
    "axs[2, 2].semilogy(1:3R_K3-1, TCI.linkdims(qttK3a.tt))\n",
    "axs[2, 2].semilogy(1:3R_K3-1, TCI.linkdims(qttK3a2.tt))\n",
    "axs[2, 2].set_xlabel(L\"\\ell\")\n",
    "axs[2, 2].set_ylabel(L\"D_\\ell\")\n",
    "#axs[2, 2].set_ylim(1.5, 300)\n",
    "axs[2, 2].set_xticks([1, 10, 19])\n",
    "\n",
    "axs[2, 1].legend()\n",
    "fig.suptitle(\"QTCI of K3a \"*keldyshComponentsK3a*\" component\")\n",
    "tight_layout()\n",
    "\n",
    "\n",
    "fig.savefig(\"K3a_\"*keldyshComponentsK3a*\"_u=\"*string(u_here)*\".pdf\")"
   ]
  },
  {
   "cell_type": "code",
   "execution_count": 91,
   "id": "1948a457",
   "metadata": {},
   "outputs": [],
   "source": [
    "save_plotdata(qttK2a,  \"u\"*string(u_here)*\"_K2a\" *\"_\"*keldyshComponentsK2a*\"_3\", qttK2adata, Dict(\"R\"=>R_K2, \"extent\"=>extent, \"parquetdata\"=>filename, \"tol\"=>tol_high))\n",
    "save_plotdata(qttK2a2, \"u\"*string(u_here)*\"_K2a2\"*\"_\"*keldyshComponentsK2a*\"_3\", qttK2adata, Dict(\"R\"=>R_K2, \"extent\"=>extent, \"parquetdata\"=>filename, \"tol\"=>tol_low))\n",
    "save_plotdata(qttK3a,  \"u\"*string(u_here)*\"_K3a\" *\"_\"*keldyshComponentsK3a*\"_3\", qttK3adata, Dict(\"R\"=>R_K3, \"extent\"=>extent, \"parquetdata\"=>filename, \"tol\"=>tol_high))\n",
    "save_plotdata(qttK3a2, \"u\"*string(u_here)*\"_K3a2\"*\"_\"*keldyshComponentsK3a*\"_3\", qttK3adata, Dict(\"R\"=>R_K3, \"extent\"=>extent, \"parquetdata\"=>filename, \"tol\"=>tol_low))"
   ]
  },
  {
   "cell_type": "code",
   "execution_count": null,
   "id": "b4f5a55f",
   "metadata": {},
   "outputs": [],
   "source": []
  }
 ],
 "metadata": {
  "kernelspec": {
   "display_name": "Julia 1.9.3",
   "language": "julia",
   "name": "julia-1.9"
  },
  "language_info": {
   "file_extension": ".jl",
   "mimetype": "application/julia",
   "name": "julia",
   "version": "1.9.3"
  }
 },
 "nbformat": 4,
 "nbformat_minor": 5
}
